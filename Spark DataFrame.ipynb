{
 "cells": [
  {
   "cell_type": "markdown",
   "metadata": {},
   "source": [
    "A Spark DataFrame is a distributed collection of data organized into named columns that provides operations to filter, group, or compute aggregates, and can be used with Spark SQL. DataFrames can be constructed from structured data files, existing RDDs, tables in Hive, or external databases."
   ]
  },
  {
   "cell_type": "code",
   "execution_count": 1,
   "metadata": {},
   "outputs": [],
   "source": [
    "from pyspark.sql import SparkSession\n",
    "spark = SparkSession.builder.appName('pysession').getOrCreate()"
   ]
  },
  {
   "cell_type": "code",
   "execution_count": 2,
   "metadata": {},
   "outputs": [
    {
     "name": "stdout",
     "output_type": "stream",
     "text": [
      "+----------+--------------+-----------+---------+--------+------------+\n",
      "|display_id|          uuid|document_id|timestamp|platform|geo_location|\n",
      "+----------+--------------+-----------+---------+--------+------------+\n",
      "|         1|cb8c55702adb93|     379743|       61|       3|   US>SC>519|\n",
      "|         2|79a85fa78311b9|    1794259|       81|       2|   US>CA>807|\n",
      "|         3|822932ce3d8757|    1179111|      182|       2|   US>MI>505|\n",
      "|         4|85281d0a49f7ac|    1777797|      234|       2|   US>WV>564|\n",
      "|         5|8d0daef4bf5b56|     252458|      338|       2|       SG>00|\n",
      "|         6|7765b4faae4ad4|    1773517|      395|       3|   US>OH>510|\n",
      "|         7|2cc3f6457d16da|    1149661|      602|       2|   US>MT>762|\n",
      "|         8|166fc654d73c98|    1330329|      638|       2|   US>PA>566|\n",
      "|         9|9dddccf70f6067|    1772126|      667|       1|   US>FL>528|\n",
      "|        10|b09a0e92aa4d17|     157455|      693|       1|          US|\n",
      "+----------+--------------+-----------+---------+--------+------------+\n",
      "only showing top 10 rows\n",
      "\n"
     ]
    }
   ],
   "source": [
    "eventsDF = spark.read.csv(\"events.csv\", header=True, inferSchema=True)\n",
    "eventsDF.show(10)\n"
   ]
  },
  {
   "cell_type": "code",
   "execution_count": 3,
   "metadata": {},
   "outputs": [
    {
     "name": "stdout",
     "output_type": "stream",
     "text": [
      "root\n",
      " |-- display_id: integer (nullable = true)\n",
      " |-- uuid: string (nullable = true)\n",
      " |-- document_id: integer (nullable = true)\n",
      " |-- timestamp: integer (nullable = true)\n",
      " |-- platform: string (nullable = true)\n",
      " |-- geo_location: string (nullable = true)\n",
      "\n"
     ]
    }
   ],
   "source": [
    "eventsDF.printSchema()"
   ]
  },
  {
   "cell_type": "code",
   "execution_count": 4,
   "metadata": {},
   "outputs": [],
   "source": [
    "eventsDF.write.csv.(path=\"csvFolderOne\", header=True, sep=',')"
   ]
  },
  {
   "cell_type": "code",
   "execution_count": 5,
   "metadata": {},
   "outputs": [
    {
     "name": "stdout",
     "output_type": "stream",
     "text": [
      "+----------+--------------+-----------+---------+--------+------------+-----------------+\n",
      "|display_id|          uuid|document_id|timestamp|platform|geo_location|extended_platform|\n",
      "+----------+--------------+-----------+---------+--------+------------+-----------------+\n",
      "|         1|cb8c55702adb93|     379743|       61|       3|   US>SC>519|             30.0|\n",
      "|         2|79a85fa78311b9|    1794259|       81|       2|   US>CA>807|             20.0|\n",
      "|         3|822932ce3d8757|    1179111|      182|       2|   US>MI>505|             20.0|\n",
      "|         4|85281d0a49f7ac|    1777797|      234|       2|   US>WV>564|             20.0|\n",
      "|         5|8d0daef4bf5b56|     252458|      338|       2|       SG>00|             20.0|\n",
      "|         6|7765b4faae4ad4|    1773517|      395|       3|   US>OH>510|             30.0|\n",
      "|         7|2cc3f6457d16da|    1149661|      602|       2|   US>MT>762|             20.0|\n",
      "|         8|166fc654d73c98|    1330329|      638|       2|   US>PA>566|             20.0|\n",
      "|         9|9dddccf70f6067|    1772126|      667|       1|   US>FL>528|             10.0|\n",
      "|        10|b09a0e92aa4d17|     157455|      693|       1|          US|             10.0|\n",
      "|        11|602e210c5831e5|    1773230|      710|       3|   US>IL>675|             30.0|\n",
      "|        12|6fa993bd0e0157|     892701|      718|       1|   US>TX>612|             10.0|\n",
      "|        13|7355615832b3af|    1778533|      739|       1|   US>AZ>753|             10.0|\n",
      "|        14|daef797fc210a2|    1759953|      798|       3|   US>NC>560|             30.0|\n",
      "|        15|24c64dc30891c0|    1777136|     1000|       2|          GB|             20.0|\n",
      "|        16|30c0ad12b36375|    1727882|     1033|       1|   US>FL>561|             10.0|\n",
      "|        17|c80c06d718ba65|    1667725|     1044|       2|   US>MI>540|             20.0|\n",
      "|        18|eb58e66b4f6bb0|     429183|     1175|       2|   US>OR>820|             20.0|\n",
      "|        19|c419799a427c72|    1155107|     1202|       3|   US>HI>744|             30.0|\n",
      "|        20|650e3b5699738b|    1642724|     1282|       2|   US>MI>505|             20.0|\n",
      "+----------+--------------+-----------+---------+--------+------------+-----------------+\n",
      "only showing top 20 rows\n",
      "\n"
     ]
    }
   ],
   "source": [
    "eventsDF.withColumn('extended_platform', eventsDF.platform*10).show()"
   ]
  },
  {
   "cell_type": "code",
   "execution_count": 6,
   "metadata": {},
   "outputs": [
    {
     "name": "stdout",
     "output_type": "stream",
     "text": [
      "+--------------+-----------+--------+\n",
      "|          uuid|document_id|platform|\n",
      "+--------------+-----------+--------+\n",
      "|cb8c55702adb93|     379743|       3|\n",
      "|79a85fa78311b9|    1794259|       2|\n",
      "|822932ce3d8757|    1179111|       2|\n",
      "|85281d0a49f7ac|    1777797|       2|\n",
      "|8d0daef4bf5b56|     252458|       2|\n",
      "|7765b4faae4ad4|    1773517|       3|\n",
      "|2cc3f6457d16da|    1149661|       2|\n",
      "|166fc654d73c98|    1330329|       2|\n",
      "|9dddccf70f6067|    1772126|       1|\n",
      "|b09a0e92aa4d17|     157455|       1|\n",
      "|602e210c5831e5|    1773230|       3|\n",
      "|6fa993bd0e0157|     892701|       1|\n",
      "|7355615832b3af|    1778533|       1|\n",
      "|daef797fc210a2|    1759953|       3|\n",
      "|24c64dc30891c0|    1777136|       2|\n",
      "|30c0ad12b36375|    1727882|       1|\n",
      "|c80c06d718ba65|    1667725|       2|\n",
      "|eb58e66b4f6bb0|     429183|       2|\n",
      "|c419799a427c72|    1155107|       3|\n",
      "|650e3b5699738b|    1642724|       2|\n",
      "+--------------+-----------+--------+\n",
      "only showing top 20 rows\n",
      "\n"
     ]
    }
   ],
   "source": [
    "eventsDF.select('uuid', 'document_id', 'platform').show()"
   ]
  },
  {
   "cell_type": "code",
   "execution_count": null,
   "metadata": {},
   "outputs": [],
   "source": [
    "eventsDF.filter(eventsDF.platform == 1).show()"
   ]
  },
  {
   "cell_type": "code",
   "execution_count": 7,
   "metadata": {},
   "outputs": [
    {
     "name": "stdout",
     "output_type": "stream",
     "text": [
      "+----------+--------------+-----------+---------+--------+------------+\n",
      "|display_id|          uuid|document_id|timestamp|platform|geo_location|\n",
      "+----------+--------------+-----------+---------+--------+------------+\n",
      "|         9|9dddccf70f6067|    1772126|      667|       1|   US>FL>528|\n",
      "+----------+--------------+-----------+---------+--------+------------+\n",
      "\n"
     ]
    }
   ],
   "source": [
    "eventsDF.filter((eventsDF.platform ==1)&(eventsDF.timestamp==667)).show()\n"
   ]
  },
  {
   "cell_type": "code",
   "execution_count": null,
   "metadata": {},
   "outputs": [],
   "source": [
    "eventsDF.drop(eventsDF.geo_location)"
   ]
  },
  {
   "cell_type": "code",
   "execution_count": 8,
   "metadata": {},
   "outputs": [
    {
     "name": "stdout",
     "output_type": "stream",
     "text": [
      "+------------------+------------------+----------------+\n",
      "|count(document_id)|     avg(platform)|count(timestamp)|\n",
      "+------------------+------------------+----------------+\n",
      "|          23120126|1.7443485265496663|        23120126|\n",
      "+------------------+------------------+----------------+\n",
      "\n"
     ]
    }
   ],
   "source": [
    "eventsDF.agg({'platform':'avg', 'timestamp':'count', 'document_id':'count'}).show()"
   ]
  },
  {
   "cell_type": "code",
   "execution_count": 9,
   "metadata": {},
   "outputs": [
    {
     "name": "stdout",
     "output_type": "stream",
     "text": [
      "+-------+------------------+-------------------+\n",
      "|summary|          platform|          timestamp|\n",
      "+-------+------------------+-------------------+\n",
      "|  count|          23120126|           23120126|\n",
      "|   mean|1.7443485265496663|6.540050394022858E8|\n",
      "| stddev|0.6781536109158633|3.770035880180587E8|\n",
      "|    min|                 1|                 61|\n",
      "|    max|                \\N|         1295999805|\n",
      "+-------+------------------+-------------------+\n",
      "\n"
     ]
    }
   ],
   "source": [
    "eventsDF.describe(['platform', 'timestamp']).show()"
   ]
  },
  {
   "cell_type": "code",
   "execution_count": 10,
   "metadata": {},
   "outputs": [
    {
     "name": "stdout",
     "output_type": "stream",
     "text": [
      "+----------+--------------+-----------+----------+--------+------------+\n",
      "|display_id|          uuid|document_id| timestamp|platform|geo_location|\n",
      "+----------+--------------+-----------+----------+--------+------------+\n",
      "|  19460988|ffffffba166815|     954352| 970754807|       2|       SE>28|\n",
      "|   8530211|fffffea24f24a9|    2295026| 578369876|       1|   US>UT>770|\n",
      "|  10777971|fffffe9203ee14|     339669| 725881852|       2|       US>CA|\n",
      "|     64377|fffffe25aa07b1|      25792|   5241682|       1|       IL>05|\n",
      "|  10464895|fffffdaff33cc6|    2385801| 699696608|       1|       AU>07|\n",
      "|   8301452|fffffb691423ab|    1469731| 568090101|       1|   US>TX>623|\n",
      "|  14726011|fffff9f07d9c76|      55239| 977402983|       2|   US>HI>744|\n",
      "|  12948320|fffff8ae05632c|    2637118| 853405142|       2|   US>OH>515|\n",
      "|  15937585|fffff832b8debc|    1025421|1067110297|       2|   US>NY>501|\n",
      "|  19942778|fffff7fcc60359|     272584|1129758819|       1|   US>KY>529|\n",
      "|  22236476|fffff7328769f1|     799536|1253734179|       1|   US>CA>807|\n",
      "|  18807946|fffff613f97eb2|    2489512| 734533708|       1|   US>PA>504|\n",
      "|  19443471|fffff4a47aa9c7|     379125| 959340276|       2|       AU>02|\n",
      "|  14667777|fffff365873e4d|    2727049| 972027594|       1|   US>TX>623|\n",
      "|   9274496|fffff2e1cb5169|    1788292| 631750796|       1|   US>NY>532|\n",
      "|   4101572|fffff26a8560f8|    1774758| 261375599|       2|   US>AR>693|\n",
      "|  17460002|fffff1f376f759|    1917619| 217785206|       2|   US>OH>510|\n",
      "|   9100143|fffff08d31447a|    2364990| 612763576|       2|       GH>01|\n",
      "|  19295141|ffffeee2ee87dc|    2631060| 907162210|       2|          IE|\n",
      "|  21016311|ffffedc2f70ceb|     774789|1184690539|       1|   US>CA>803|\n",
      "+----------+--------------+-----------+----------+--------+------------+\n",
      "only showing top 20 rows\n",
      "\n"
     ]
    }
   ],
   "source": [
    "eventsDF.orderBy('uuid', ascending=False).show()"
   ]
  },
  {
   "cell_type": "code",
   "execution_count": null,
   "metadata": {},
   "outputs": [],
   "source": [
    "dropdups = eventsDF.drop_duplicates()\n",
    "dropdups.show()"
   ]
  },
  {
   "cell_type": "code",
   "execution_count": 11,
   "metadata": {},
   "outputs": [
    {
     "name": "stdout",
     "output_type": "stream",
     "text": [
      "+----------+--------------+-----------+---------+--------+------------+\n",
      "|display_id|          uuid|document_id|timestamp|platform|geo_location|\n",
      "+----------+--------------+-----------+---------+--------+------------+\n",
      "|   1747640|d6687e3b2e120e|     461108|116916513|       3|       NZ>E7|\n",
      "|    303066|83e9ec48908c6a|     968149| 28799999|      \\N|   US>VA>511|\n",
      "|         9|9dddccf70f6067|    1772126|      667|       1|   US>FL>528|\n",
      "|   1747626|2d2246fcb3107a|    1462807|116915577|       2|       MX>09|\n",
      "+----------+--------------+-----------+---------+--------+------------+\n",
      "\n"
     ]
    }
   ],
   "source": [
    "dropdups = eventsDF.drop_duplicates(['platform'])\n",
    "dropdups.show()"
   ]
  },
  {
   "cell_type": "markdown",
   "metadata": {},
   "source": [
    "Reading data from database"
   ]
  },
  {
   "cell_type": "code",
   "execution_count": 13,
   "metadata": {},
   "outputs": [],
   "source": [
    "dbURL = \"jdbc:mysql://localhost/population\"\n",
    "popsDF = spark.read.format(\"jdbc\").options(url\n",
    "= dbURL, database ='population', dbtable ='pops',\n",
    "user=\"root\", password=\"root@123\").load();"
   ]
  },
  {
   "cell_type": "code",
   "execution_count": 14,
   "metadata": {},
   "outputs": [
    {
     "name": "stdout",
     "output_type": "stream",
     "text": [
      "+--------------+---------+----------+\n",
      "|       country|continent|population|\n",
      "+--------------+---------+----------+\n",
      "|         india|     asia|     99999|\n",
      "|         japan|     asia|       999|\n",
      "|      combodia|   africa|   1234567|\n",
      "|ghana republic|   africa|     12312|\n",
      "+--------------+---------+----------+\n",
      "\n"
     ]
    }
   ],
   "source": [
    "popsDF.show()"
   ]
  },
  {
   "cell_type": "code",
   "execution_count": 15,
   "metadata": {},
   "outputs": [
    {
     "name": "stdout",
     "output_type": "stream",
     "text": [
      "+---------+---------------+\n",
      "|continent|avg(population)|\n",
      "+---------+---------------+\n",
      "|   africa|       623439.5|\n",
      "|     asia|        50499.0|\n",
      "+---------+---------------+\n",
      "\n"
     ]
    }
   ],
   "source": [
    "popsDF.groupBy(['continent']).mean().show()"
   ]
  },
  {
   "cell_type": "markdown",
   "metadata": {},
   "source": [
    "groupBy on multiple columns: popsDF.groupBy( [ 'continent' ,  'Gender' ] ).mean( ).show( )"
   ]
  },
  {
   "cell_type": "code",
   "execution_count": 16,
   "metadata": {},
   "outputs": [
    {
     "name": "stdout",
     "output_type": "stream",
     "text": [
      "+---------+-------+------+\n",
      "|studentId|   name|gender|\n",
      "+---------+-------+------+\n",
      "|      si1|  Robin|     M|\n",
      "|      si2|  Maria|     F|\n",
      "|      si3|  Julie|     F|\n",
      "|      si4|    Bob|     M|\n",
      "|      si5|William|     M|\n",
      "+---------+-------+------+\n",
      "\n"
     ]
    }
   ],
   "source": [
    "from pyspark.sql import *\n",
    "student = Row(\"studentId\", \"name\", \"gender\")\n",
    "s1 = student(\"si1\", \"Robin\", \"M\")\n",
    "s2 = student(\"si2\", \"Maria\", \"F\")\n",
    "s3 = student(\"si3\", \"Julie\", \"F\")\n",
    "s4 = student(\"si4\", \"Bob\", \"M\")\n",
    "s5 = student(\"si5\", \"William\", \"M\")\n",
    "students = [s1,s2,s3,s4,s5]\n",
    "studentsDF = spark.createDataFrame(students)\n",
    "studentsDF.show()"
   ]
  },
  {
   "cell_type": "code",
   "execution_count": 17,
   "metadata": {},
   "outputs": [
    {
     "name": "stdout",
     "output_type": "stream",
     "text": [
      "+---------+-------+-----+\n",
      "|studentId|subject|marks|\n",
      "+---------+-------+-----+\n",
      "|      si1| Python|   75|\n",
      "|      si3|   Java|   76|\n",
      "|      si1|   Java|   81|\n",
      "|      si2| Python|   85|\n",
      "|      si3|   Ruby|   73|\n",
      "|      si4|    C++|   78|\n",
      "|      si4|      C|   77|\n",
      "|      si4| Python|   84|\n",
      "|      si2|   Java|   83|\n",
      "+---------+-------+-----+\n",
      "\n"
     ]
    }
   ],
   "source": [
    "subjects = Row(\"studentId\", \"subject\", \"marks\")\n",
    "sub1 = subjects(\"si1\", \"Python\", 75)\n",
    "sub2 = subjects(\"si3\", \"Java\",76)\n",
    "sub3 = subjects(\"si1\", \"Java\", 81)\n",
    "sub4 = subjects(\"si2\", \"Python\", 85)\n",
    "sub5 = subjects(\"si3\", \"Ruby\", 73)\n",
    "sub6 = subjects(\"si4\", \"C++\", 78)\n",
    "sub7 = subjects(\"si4\", \"C\", 77)\n",
    "sub8 = subjects(\"si4\", \"Python\", 84)\n",
    "sub9 = subjects(\"si2\", \"Java\", 83)\n",
    "\n",
    "l = [sub1, sub2, sub3, sub4, sub5, sub6, sub7, sub8, sub9]\n",
    "subjectsDF = spark.createDataFrame(l)\n",
    "subjectsDF.show()"
   ]
  },
  {
   "cell_type": "markdown",
   "metadata": {},
   "source": [
    "# Joins"
   ]
  },
  {
   "cell_type": "code",
   "execution_count": null,
   "metadata": {},
   "outputs": [],
   "source": [
    "innerdf = studentsDF.join(subjectsDF, studentsDF.studentId==subjectsDF.studentId, how=\"inner\")\n",
    "innerdf.show()"
   ]
  },
  {
   "cell_type": "code",
   "execution_count": null,
   "metadata": {},
   "outputs": [],
   "source": [
    "leftdf = studentsDF.join(subjectsDF, studentsDF.studentId==subjectsDF.studentId, how=\"left\")\n",
    "leftdf.show()"
   ]
  },
  {
   "cell_type": "code",
   "execution_count": null,
   "metadata": {},
   "outputs": [],
   "source": [
    "rightdf = studentsDF.join(subjectsDF, studentsDF.studentId==subjectsDF.studentId, how=\"right\")\n",
    "rightdf.show()"
   ]
  },
  {
   "cell_type": "code",
   "execution_count": null,
   "metadata": {},
   "outputs": [],
   "source": [
    "outerdf = studentsDF.join(subjectsDF, studentsDF.studentId==subjectsDF.studentId, how=\"full\")\n",
    "outerdf.show()"
   ]
  },
  {
   "cell_type": "code",
   "execution_count": null,
   "metadata": {},
   "outputs": [],
   "source": [
    "uniondf = studentsDF.union(subjectsDF) # horizontal stack\n",
    "uniondf.show()"
   ]
  },
  {
   "cell_type": "code",
   "execution_count": null,
   "metadata": {},
   "outputs": [],
   "source": []
  }
 ],
 "metadata": {
  "kernelspec": {
   "display_name": "Python 2",
   "language": "python",
   "name": "python2"
  },
  "language_info": {
   "codemirror_mode": {
    "name": "ipython",
    "version": 2
   },
   "file_extension": ".py",
   "mimetype": "text/x-python",
   "name": "python",
   "nbconvert_exporter": "python",
   "pygments_lexer": "ipython2",
   "version": "2.7.16"
  }
 },
 "nbformat": 4,
 "nbformat_minor": 2
}
